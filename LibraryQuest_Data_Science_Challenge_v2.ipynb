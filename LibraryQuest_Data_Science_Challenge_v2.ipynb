{
 "cells": [
  {
   "cell_type": "markdown",
   "metadata": {},
   "source": [
    "## Data Science Case Study\n",
    "\n",
    "The City of Chicago provides a robust set of data assets online here: https://data.cityofchicago.org\n",
    "Included in this repository is a dataset that includes all of the public libraries in the City of Chicago (feel free to use additional data as you see fit). We’d like you to create a script that will return the closest library as the crow flies to a given location in the city.\n",
    "Given the parameters of:\n",
    "\n",
    "- Longitude and lattitude for a point in the city\n",
    "- Day of week\n",
    "- Time of day\n",
    "\n",
    "The script should return, for the five closest libraries, ranked (geographically farthest first):\n",
    "\n",
    "- Library Name\n",
    "- Address\n",
    "- Popularity (calculated by you)\n",
    "- Currently open or closed\n",
    "\n",
    "When you are ready, send us all relevant code and documentation, and we’ll schedule an interview in person to walk through it together. While our preferred language is Python, feel free to use which ever language you prefer.\n"
   ]
  },
  {
   "cell_type": "code",
   "execution_count": 101,
   "metadata": {
    "collapsed": true
   },
   "outputs": [],
   "source": [
    "import numpy as np\n",
    "import pandas as pd\n",
    "import matplotlib.pyplot as plt\n",
    "#enable IPython to display matplotlib graphs\n",
    "%matplotlib inline\n",
    "import csv"
   ]
  },
  {
   "cell_type": "markdown",
   "metadata": {},
   "source": [
    "## Data Cleansing/EDA\n",
    "\n",
    "- data source 1: chicago library locations, hours, contact\n",
    "- data source 2: chicago library visitors in 2016"
   ]
  },
  {
   "cell_type": "code",
   "execution_count": 102,
   "metadata": {
    "collapsed": true
   },
   "outputs": [],
   "source": [
    "lib = pd.read_csv('Libraries_-_Locations__Hours_and_Contact_Information.csv')\n",
    "vis = pd.read_csv('Libraries_-_2016_Visitors_by_Location.csv')"
   ]
  },
  {
   "cell_type": "code",
   "execution_count": 103,
   "metadata": {},
   "outputs": [
    {
     "data": {
      "text/plain": [
       "Index(['NAME ', 'HOURS OF OPERATION', 'CYBERNAVIGATOR',\n",
       "       'TEACHER IN THE LIBRARY', 'ADDRESS', 'CITY', 'STATE', 'ZIP', 'PHONE',\n",
       "       'WEBSITE', 'LOCATION'],\n",
       "      dtype='object')"
      ]
     },
     "execution_count": 103,
     "metadata": {},
     "output_type": "execute_result"
    }
   ],
   "source": [
    "lib.columns"
   ]
  },
  {
   "cell_type": "code",
   "execution_count": 104,
   "metadata": {},
   "outputs": [
    {
     "data": {
      "text/html": [
       "<div>\n",
       "<style>\n",
       "    .dataframe thead tr:only-child th {\n",
       "        text-align: right;\n",
       "    }\n",
       "\n",
       "    .dataframe thead th {\n",
       "        text-align: left;\n",
       "    }\n",
       "\n",
       "    .dataframe tbody tr th {\n",
       "        vertical-align: top;\n",
       "    }\n",
       "</style>\n",
       "<table border=\"1\" class=\"dataframe\">\n",
       "  <thead>\n",
       "    <tr style=\"text-align: right;\">\n",
       "      <th></th>\n",
       "      <th>NAME</th>\n",
       "      <th>HOURS OF OPERATION</th>\n",
       "      <th>CYBERNAVIGATOR</th>\n",
       "      <th>TEACHER IN THE LIBRARY</th>\n",
       "      <th>ADDRESS</th>\n",
       "      <th>CITY</th>\n",
       "      <th>STATE</th>\n",
       "      <th>ZIP</th>\n",
       "      <th>PHONE</th>\n",
       "      <th>WEBSITE</th>\n",
       "      <th>LOCATION</th>\n",
       "    </tr>\n",
       "  </thead>\n",
       "  <tbody>\n",
       "    <tr>\n",
       "      <th>0</th>\n",
       "      <td>Albany Park</td>\n",
       "      <td>M, W: 10AM-6PM;  TU, TH: 12PM-8PM; F, SA: 9AM-...</td>\n",
       "      <td>Yes</td>\n",
       "      <td>Yes</td>\n",
       "      <td>3401 W. Foster Avenue</td>\n",
       "      <td>CHICAGO</td>\n",
       "      <td>IL</td>\n",
       "      <td>60625</td>\n",
       "      <td>(773) 539-5450</td>\n",
       "      <td>https://www.chipublib.org/locations/3/</td>\n",
       "      <td>(41.975456, -87.71409)</td>\n",
       "    </tr>\n",
       "    <tr>\n",
       "      <th>1</th>\n",
       "      <td>Altgeld</td>\n",
       "      <td>M, W: 12PM-8PM; TU, TH: 10AM-6PM; F, SA: 9AM-5...</td>\n",
       "      <td>Yes</td>\n",
       "      <td>Yes</td>\n",
       "      <td>13281 S. Corliss Avenue</td>\n",
       "      <td>CHICAGO</td>\n",
       "      <td>IL</td>\n",
       "      <td>60827</td>\n",
       "      <td>(312) 747-3270</td>\n",
       "      <td>https://www.chipublib.org/locations/4/</td>\n",
       "      <td>(41.65473021837776, -87.6022302609835)</td>\n",
       "    </tr>\n",
       "    <tr>\n",
       "      <th>2</th>\n",
       "      <td>Archer Heights</td>\n",
       "      <td>M, W: 12PM-8PM; TU, TH: 10AM-6PM; F, SA: 9AM-5...</td>\n",
       "      <td>No</td>\n",
       "      <td>Yes</td>\n",
       "      <td>5055 S. Archer Avenue</td>\n",
       "      <td>CHICAGO</td>\n",
       "      <td>IL</td>\n",
       "      <td>60632</td>\n",
       "      <td>(312) 747-9241</td>\n",
       "      <td>https://www.chipublib.org/locations/5/</td>\n",
       "      <td>(41.8012136599335, -87.72649071431441)</td>\n",
       "    </tr>\n",
       "  </tbody>\n",
       "</table>\n",
       "</div>"
      ],
      "text/plain": [
       "            NAME                                  HOURS OF OPERATION  \\\n",
       "0     Albany Park  M, W: 10AM-6PM;  TU, TH: 12PM-8PM; F, SA: 9AM-...   \n",
       "1         Altgeld  M, W: 12PM-8PM; TU, TH: 10AM-6PM; F, SA: 9AM-5...   \n",
       "2  Archer Heights  M, W: 12PM-8PM; TU, TH: 10AM-6PM; F, SA: 9AM-5...   \n",
       "\n",
       "  CYBERNAVIGATOR TEACHER IN THE LIBRARY                  ADDRESS     CITY  \\\n",
       "0            Yes                   Yes     3401 W. Foster Avenue  CHICAGO   \n",
       "1            Yes                   Yes   13281 S. Corliss Avenue  CHICAGO   \n",
       "2             No                   Yes     5055 S. Archer Avenue  CHICAGO   \n",
       "\n",
       "  STATE    ZIP           PHONE                                 WEBSITE  \\\n",
       "0    IL  60625  (773) 539-5450  https://www.chipublib.org/locations/3/   \n",
       "1    IL  60827  (312) 747-3270  https://www.chipublib.org/locations/4/   \n",
       "2    IL  60632  (312) 747-9241  https://www.chipublib.org/locations/5/   \n",
       "\n",
       "                                 LOCATION  \n",
       "0                  (41.975456, -87.71409)  \n",
       "1  (41.65473021837776, -87.6022302609835)  \n",
       "2  (41.8012136599335, -87.72649071431441)  "
      ]
     },
     "execution_count": 104,
     "metadata": {},
     "output_type": "execute_result"
    }
   ],
   "source": [
    "lib.head(3)"
   ]
  },
  {
   "cell_type": "code",
   "execution_count": 105,
   "metadata": {},
   "outputs": [
    {
     "data": {
      "text/plain": [
       "(80, 11)"
      ]
     },
     "execution_count": 105,
     "metadata": {},
     "output_type": "execute_result"
    }
   ],
   "source": [
    "lib.shape"
   ]
  },
  {
   "cell_type": "code",
   "execution_count": 106,
   "metadata": {},
   "outputs": [
    {
     "data": {
      "text/plain": [
       "M, W: 12PM-8PM; TU, TH: 10AM-6PM; F, SA: 9AM-5PM; SU: Closed     39\n",
       "M, W: 10AM-6PM;  TU, TH: 12PM-8PM; F, SA: 9AM-5PM; SU: Closed    36\n",
       "M-TH: 9AM-9PM; F, SA: 9AM-5PM; SU: 1PM-5PM                        3\n",
       "M-TH: 9AM-7PM; F, SA: 9AM-5PM; SU: 1PM-5PM                        1\n",
       "M-TH: 10AM-6PM; F: 9AM-5PM; SA, SU: Closed                        1\n",
       "Name: HOURS OF OPERATION, dtype: int64"
      ]
     },
     "execution_count": 106,
     "metadata": {},
     "output_type": "execute_result"
    }
   ],
   "source": [
    "lib['HOURS OF OPERATION'].value_counts()"
   ]
  },
  {
   "cell_type": "code",
   "execution_count": 107,
   "metadata": {},
   "outputs": [
    {
     "data": {
      "text/plain": [
       "Index(['LOCATION', 'JANUARY', 'FEBRUARY', 'MARCH', 'APRIL', 'MAY', 'JUNE',\n",
       "       'JULY', 'AUGUST', 'SEPTEMBER', 'OCTOBER', 'NOVEMBER', 'DECEMBER',\n",
       "       'YTD'],\n",
       "      dtype='object')"
      ]
     },
     "execution_count": 107,
     "metadata": {},
     "output_type": "execute_result"
    }
   ],
   "source": [
    "vis.columns"
   ]
  },
  {
   "cell_type": "code",
   "execution_count": 108,
   "metadata": {},
   "outputs": [
    {
     "data": {
      "text/html": [
       "<div>\n",
       "<style>\n",
       "    .dataframe thead tr:only-child th {\n",
       "        text-align: right;\n",
       "    }\n",
       "\n",
       "    .dataframe thead th {\n",
       "        text-align: left;\n",
       "    }\n",
       "\n",
       "    .dataframe tbody tr th {\n",
       "        vertical-align: top;\n",
       "    }\n",
       "</style>\n",
       "<table border=\"1\" class=\"dataframe\">\n",
       "  <thead>\n",
       "    <tr style=\"text-align: right;\">\n",
       "      <th></th>\n",
       "      <th>LOCATION</th>\n",
       "      <th>JANUARY</th>\n",
       "      <th>FEBRUARY</th>\n",
       "      <th>MARCH</th>\n",
       "      <th>APRIL</th>\n",
       "      <th>MAY</th>\n",
       "      <th>JUNE</th>\n",
       "      <th>JULY</th>\n",
       "      <th>AUGUST</th>\n",
       "      <th>SEPTEMBER</th>\n",
       "      <th>OCTOBER</th>\n",
       "      <th>NOVEMBER</th>\n",
       "      <th>DECEMBER</th>\n",
       "      <th>YTD</th>\n",
       "    </tr>\n",
       "  </thead>\n",
       "  <tbody>\n",
       "    <tr>\n",
       "      <th>0</th>\n",
       "      <td>Albany Park</td>\n",
       "      <td>11735.0</td>\n",
       "      <td>10593.0</td>\n",
       "      <td>12368.0</td>\n",
       "      <td>12556.0</td>\n",
       "      <td>10915.0</td>\n",
       "      <td>15341.0</td>\n",
       "      <td>14151.0</td>\n",
       "      <td>13907.0</td>\n",
       "      <td>14119.0</td>\n",
       "      <td>16460.0</td>\n",
       "      <td>14463.0</td>\n",
       "      <td>12789.0</td>\n",
       "      <td>159397.0</td>\n",
       "    </tr>\n",
       "    <tr>\n",
       "      <th>1</th>\n",
       "      <td>Altgeld</td>\n",
       "      <td>5335.0</td>\n",
       "      <td>5034.0</td>\n",
       "      <td>4529.0</td>\n",
       "      <td>4471.0</td>\n",
       "      <td>3880.0</td>\n",
       "      <td>4431.0</td>\n",
       "      <td>5526.0</td>\n",
       "      <td>5867.0</td>\n",
       "      <td>5433.0</td>\n",
       "      <td>5064.0</td>\n",
       "      <td>4584.0</td>\n",
       "      <td>3325.0</td>\n",
       "      <td>57479.0</td>\n",
       "    </tr>\n",
       "    <tr>\n",
       "      <th>2</th>\n",
       "      <td>Archer Heights*</td>\n",
       "      <td>8375.0</td>\n",
       "      <td>9079.0</td>\n",
       "      <td>10522.0</td>\n",
       "      <td>9747.0</td>\n",
       "      <td>8714.0</td>\n",
       "      <td>9567.0</td>\n",
       "      <td>9514.0</td>\n",
       "      <td>8831.0</td>\n",
       "      <td>8611.0</td>\n",
       "      <td>9209.0</td>\n",
       "      <td>8400.0</td>\n",
       "      <td>6754.0</td>\n",
       "      <td>107323.0</td>\n",
       "    </tr>\n",
       "    <tr>\n",
       "      <th>3</th>\n",
       "      <td>Austin</td>\n",
       "      <td>5849.0</td>\n",
       "      <td>5190.0</td>\n",
       "      <td>5691.0</td>\n",
       "      <td>6313.0</td>\n",
       "      <td>6092.0</td>\n",
       "      <td>7489.0</td>\n",
       "      <td>9012.0</td>\n",
       "      <td>8202.0</td>\n",
       "      <td>7521.0</td>\n",
       "      <td>7257.0</td>\n",
       "      <td>6395.0</td>\n",
       "      <td>6632.0</td>\n",
       "      <td>81643.0</td>\n",
       "    </tr>\n",
       "    <tr>\n",
       "      <th>4</th>\n",
       "      <td>Austin-Irving</td>\n",
       "      <td>8726.0</td>\n",
       "      <td>9201.0</td>\n",
       "      <td>10017.0</td>\n",
       "      <td>10010.0</td>\n",
       "      <td>8346.0</td>\n",
       "      <td>9571.0</td>\n",
       "      <td>9567.0</td>\n",
       "      <td>9386.0</td>\n",
       "      <td>9110.0</td>\n",
       "      <td>10505.0</td>\n",
       "      <td>10540.0</td>\n",
       "      <td>9913.0</td>\n",
       "      <td>114892.0</td>\n",
       "    </tr>\n",
       "  </tbody>\n",
       "</table>\n",
       "</div>"
      ],
      "text/plain": [
       "          LOCATION  JANUARY  FEBRUARY    MARCH    APRIL      MAY     JUNE  \\\n",
       "0    Albany Park    11735.0   10593.0  12368.0  12556.0  10915.0  15341.0   \n",
       "1        Altgeld     5335.0    5034.0   4529.0   4471.0   3880.0   4431.0   \n",
       "2  Archer Heights*   8375.0    9079.0  10522.0   9747.0   8714.0   9567.0   \n",
       "3          Austin    5849.0    5190.0   5691.0   6313.0   6092.0   7489.0   \n",
       "4  Austin-Irving     8726.0    9201.0  10017.0  10010.0   8346.0   9571.0   \n",
       "\n",
       "      JULY   AUGUST  SEPTEMBER  OCTOBER  NOVEMBER  DECEMBER       YTD  \n",
       "0  14151.0  13907.0    14119.0  16460.0   14463.0   12789.0  159397.0  \n",
       "1   5526.0   5867.0     5433.0   5064.0    4584.0    3325.0   57479.0  \n",
       "2   9514.0   8831.0     8611.0   9209.0    8400.0    6754.0  107323.0  \n",
       "3   9012.0   8202.0     7521.0   7257.0    6395.0    6632.0   81643.0  \n",
       "4   9567.0   9386.0     9110.0  10505.0   10540.0    9913.0  114892.0  "
      ]
     },
     "execution_count": 108,
     "metadata": {},
     "output_type": "execute_result"
    }
   ],
   "source": [
    "vis.head(5)"
   ]
  },
  {
   "cell_type": "code",
   "execution_count": 109,
   "metadata": {},
   "outputs": [
    {
     "data": {
      "text/plain": [
       "(80, 14)"
      ]
     },
     "execution_count": 109,
     "metadata": {},
     "output_type": "execute_result"
    }
   ],
   "source": [
    "vis.shape"
   ]
  },
  {
   "cell_type": "code",
   "execution_count": 110,
   "metadata": {},
   "outputs": [
    {
     "data": {
      "text/plain": [
       "4.0    8\n",
       "0.0    8\n",
       "8.0    8\n",
       "2.0    8\n",
       "7.0    8\n",
       "3.0    8\n",
       "6.0    8\n",
       "1.0    8\n",
       "9.0    8\n",
       "5.0    7\n",
       "Name: popularity, dtype: int64"
      ]
     },
     "execution_count": 110,
     "metadata": {},
     "output_type": "execute_result"
    }
   ],
   "source": [
    "# create decile ranking as metric for library popularity \n",
    "\n",
    "vis['popularity'] = pd.qcut(vis['YTD'], 10, labels = False)\n",
    "vis['popularity'].value_counts()"
   ]
  },
  {
   "cell_type": "code",
   "execution_count": 111,
   "metadata": {},
   "outputs": [
    {
     "data": {
      "text/plain": [
       "{'Harold Washington Library Center', 'nan'}"
      ]
     },
     "execution_count": 111,
     "metadata": {},
     "output_type": "execute_result"
    }
   ],
   "source": [
    "# clear irregular character in vis['LOCATION'] to join table lib on lib['NAME']\n",
    "\n",
    "vis['LOCATION']=vis['LOCATION'].apply(lambda x: str(x).replace('*','').strip())\n",
    "vis['LOCATION'].values\n",
    "\n",
    "lib['NAME ']=lib['NAME '].apply(lambda x: str(x).strip())\n",
    "lib['NAME '].values\n",
    "\n",
    "len(set(vis['LOCATION'].tolist()).intersection(set(lib['NAME '].tolist()))) # 78, missing two matches\n",
    "\n",
    "# find the two missing match from vis to lib:\n",
    "set(vis['LOCATION'].tolist()).difference(set(lib['NAME '].tolist()))"
   ]
  },
  {
   "cell_type": "code",
   "execution_count": 112,
   "metadata": {
    "collapsed": true
   },
   "outputs": [],
   "source": [
    "vis[vis['LOCATION'] == 'Harold Washington Library Center']\n",
    "\n",
    "vis[vis['LOCATION'] == 'nan'] #bad data row, ignore and let remain missing\n",
    "\n",
    "# the mismatch happens when library name for the Harold Washington is different in two tables\n",
    "lib[lib['NAME '].str.contains('Harold')] \n",
    "\n",
    "# we fix the library name in vis to be consistent with lib:\n",
    "vis.loc[vis['LOCATION'] == 'Harold Washington Library Center','LOCATION'] = 'Harold Washington-HWLC'"
   ]
  },
  {
   "cell_type": "code",
   "execution_count": 113,
   "metadata": {},
   "outputs": [
    {
     "data": {
      "text/plain": [
       "79"
      ]
     },
     "execution_count": 113,
     "metadata": {},
     "output_type": "execute_result"
    }
   ],
   "source": [
    "# after library name fix, we expect 79 out 80 total libraries in lib could be joined with vis:\n",
    "\n",
    "len(set(vis['LOCATION'].tolist()).intersection(set(lib['NAME '].tolist()))) # cleared"
   ]
  },
  {
   "cell_type": "code",
   "execution_count": 114,
   "metadata": {
    "collapsed": true
   },
   "outputs": [],
   "source": [
    "# also change the column name for library name in vis to be consistent with lib:\n",
    "\n",
    "lib = lib.rename(columns={'NAME ': 'NAME'})\n",
    "vis = vis.rename(columns={'LOCATION':'NAME'})"
   ]
  },
  {
   "cell_type": "code",
   "execution_count": 115,
   "metadata": {},
   "outputs": [
    {
     "data": {
      "text/plain": [
       "Index(['NAME', 'JANUARY', 'FEBRUARY', 'MARCH', 'APRIL', 'MAY', 'JUNE', 'JULY',\n",
       "       'AUGUST', 'SEPTEMBER', 'OCTOBER', 'NOVEMBER', 'DECEMBER', 'YTD',\n",
       "       'popularity'],\n",
       "      dtype='object')"
      ]
     },
     "execution_count": 115,
     "metadata": {},
     "output_type": "execute_result"
    }
   ],
   "source": [
    "vis.columns"
   ]
  },
  {
   "cell_type": "code",
   "execution_count": 116,
   "metadata": {},
   "outputs": [
    {
     "data": {
      "text/plain": [
       "Index(['NAME', 'HOURS OF OPERATION', 'CYBERNAVIGATOR',\n",
       "       'TEACHER IN THE LIBRARY', 'ADDRESS', 'CITY', 'STATE', 'ZIP', 'PHONE',\n",
       "       'WEBSITE', 'LOCATION', 'JANUARY', 'FEBRUARY', 'MARCH', 'APRIL', 'MAY',\n",
       "       'JUNE', 'JULY', 'AUGUST', 'SEPTEMBER', 'OCTOBER', 'NOVEMBER',\n",
       "       'DECEMBER', 'YTD', 'popularity'],\n",
       "      dtype='object')"
      ]
     },
     "execution_count": 116,
     "metadata": {},
     "output_type": "execute_result"
    }
   ],
   "source": [
    "# merge lib and vis table together:\n",
    "lib = pd.merge(lib, vis, how = 'left', on = 'NAME')\n",
    "lib.columns"
   ]
  },
  {
   "cell_type": "code",
   "execution_count": 117,
   "metadata": {},
   "outputs": [
    {
     "data": {
      "text/plain": [
       "(80, 25)"
      ]
     },
     "execution_count": 117,
     "metadata": {},
     "output_type": "execute_result"
    }
   ],
   "source": [
    "lib.shape"
   ]
  },
  {
   "cell_type": "code",
   "execution_count": 118,
   "metadata": {
    "collapsed": true
   },
   "outputs": [],
   "source": [
    "# convert location coordinates into list type:\n",
    "lib['LOCATION'] = lib['LOCATION'].apply(lambda x: list(map(float, x.replace('(', '').replace(')', '').split(','))))"
   ]
  },
  {
   "cell_type": "markdown",
   "metadata": {},
   "source": [
    "## Library Quest Function\n",
    "\n",
    "- input parameter: starting latitute, starting longitute, time of day, day of week, number of closest library to return\n",
    "- return values: library name, distance (furthers to closest within top n results), address, operation status (open/closed), popularity in terms of number of visitors (deciles 0 to 9 with 0 being least popular and 9 being most popular)\n"
   ]
  },
  {
   "cell_type": "code",
   "execution_count": 119,
   "metadata": {},
   "outputs": [
    {
     "data": {
      "text/html": [
       "<div>\n",
       "<style>\n",
       "    .dataframe thead tr:only-child th {\n",
       "        text-align: right;\n",
       "    }\n",
       "\n",
       "    .dataframe thead th {\n",
       "        text-align: left;\n",
       "    }\n",
       "\n",
       "    .dataframe tbody tr th {\n",
       "        vertical-align: top;\n",
       "    }\n",
       "</style>\n",
       "<table border=\"1\" class=\"dataframe\">\n",
       "  <thead>\n",
       "    <tr style=\"text-align: right;\">\n",
       "      <th></th>\n",
       "      <th>NAME</th>\n",
       "      <th>distance</th>\n",
       "      <th>ADDRESS</th>\n",
       "      <th>library_operation_status</th>\n",
       "      <th>popularity</th>\n",
       "    </tr>\n",
       "  </thead>\n",
       "  <tbody>\n",
       "    <tr>\n",
       "      <th>53</th>\n",
       "      <td>Northtown</td>\n",
       "      <td>2.811353</td>\n",
       "      <td>6435 N. California Avenue</td>\n",
       "      <td>open</td>\n",
       "      <td>7.0</td>\n",
       "    </tr>\n",
       "    <tr>\n",
       "      <th>34</th>\n",
       "      <td>Independence</td>\n",
       "      <td>2.408837</td>\n",
       "      <td>3548 W. Irving Park Road</td>\n",
       "      <td>open</td>\n",
       "      <td>0.0</td>\n",
       "    </tr>\n",
       "    <tr>\n",
       "      <th>46</th>\n",
       "      <td>Mayfair</td>\n",
       "      <td>2.141651</td>\n",
       "      <td>4400 W. Lawrence Avenue</td>\n",
       "      <td>open</td>\n",
       "      <td>1.0</td>\n",
       "    </tr>\n",
       "    <tr>\n",
       "      <th>13</th>\n",
       "      <td>Budlong Woods</td>\n",
       "      <td>1.690295</td>\n",
       "      <td>5630 N. Lincoln Avenue</td>\n",
       "      <td>open</td>\n",
       "      <td>7.0</td>\n",
       "    </tr>\n",
       "    <tr>\n",
       "      <th>0</th>\n",
       "      <td>Albany Park</td>\n",
       "      <td>0.000000</td>\n",
       "      <td>3401 W. Foster Avenue</td>\n",
       "      <td>open</td>\n",
       "      <td>9.0</td>\n",
       "    </tr>\n",
       "  </tbody>\n",
       "</table>\n",
       "</div>"
      ],
      "text/plain": [
       "             NAME  distance                    ADDRESS  \\\n",
       "53      Northtown  2.811353  6435 N. California Avenue   \n",
       "34   Independence  2.408837   3548 W. Irving Park Road   \n",
       "46        Mayfair  2.141651    4400 W. Lawrence Avenue   \n",
       "13  Budlong Woods  1.690295     5630 N. Lincoln Avenue   \n",
       "0     Albany Park  0.000000      3401 W. Foster Avenue   \n",
       "\n",
       "   library_operation_status  popularity  \n",
       "53                     open         7.0  \n",
       "34                     open         0.0  \n",
       "46                     open         1.0  \n",
       "13                     open         7.0  \n",
       "0                      open         9.0  "
      ]
     },
     "execution_count": 119,
     "metadata": {},
     "output_type": "execute_result"
    }
   ],
   "source": [
    "# define closest library calculation function:\n",
    "\n",
    "def get_closest_lib(lat, lng, time, day, n):\n",
    "    \n",
    "    from math import radians, sin, cos, atan2\n",
    "    from datetime import datetime\n",
    "    import re\n",
    "    \n",
    "    #lib['LOCATION'] = lib['LOCATION'].apply(lambda x: list(map(float, x.replace('(', '').replace(')', '').split(','))))\n",
    "    \n",
    "    def get_distance(lat, lng, lat1, lng1):\n",
    "        R = 6373.0\n",
    "        lat = radians(lat)\n",
    "        lng = radians(lng)\n",
    "        lat1 = radians(lat1)\n",
    "        lng1 = radians(lng1)\n",
    "\n",
    "        dlon = lng1 - lng\n",
    "        dlat = lat1 - lat\n",
    "\n",
    "        a = sin(dlat / 2)**2 + cos(lat) * cos(lat1) * sin(dlon / 2)**2\n",
    "        c = 2 * atan2(sqrt(a), sqrt(1 - a))\n",
    "\n",
    "        distance = R * c\n",
    "    \n",
    "        return distance\n",
    "    \n",
    "    lib['distance'] = lib['LOCATION'].apply(lambda x: get_distance(lat, lng, x[0], x[1]))\n",
    "    \n",
    "    top_n_lib = lib.sort_values(by = 'distance', ascending = True)[\n",
    "        ['NAME','distance', 'ADDRESS','HOURS OF OPERATION', 'popularity']].head(n)\n",
    "    \n",
    "    #return top_n_lib\n",
    "    \n",
    "    # define library operating function:\n",
    "    from datetime import datetime\n",
    "\n",
    "    def get_lib_open_close(time, day):\n",
    "\n",
    "        list_of_operation_hours = top_n_lib['HOURS OF OPERATION'].tolist()\n",
    "\n",
    "        current_time = datetime.strptime(time.upper(), '%I%p')\n",
    "\n",
    "        # check close/open status if day = Monday:\n",
    "        if day.lower() in ('monday', 'mon', 'm'):\n",
    "            list_of_today_hours = [re.findall('(?<=: ).+', hours)[0] for this_operation_hours in list_of_operation_hours\n",
    "                               for hours in this_operation_hours.split(';') \n",
    "                               if 'M' in hours.split(':')[0] or 'M-TH' in hours.split(':')[0]]\n",
    "\n",
    "            list_of_today_hours_start=[re.findall('.+(?=-)', time_range)[0]\n",
    "                                       if time_range != 'Closed' else time_range\n",
    "                                       for time_range in list_of_today_hours]\n",
    "\n",
    "            list_of_today_hours_close=[re.findall('(?<=-).+', time_range)[0]\n",
    "                                       if time_range != 'Closed' else time_range\n",
    "                                       for time_range in list_of_today_hours]\n",
    "\n",
    "            list_of_current_status = ['open' if today_hours != 'Closed' and\n",
    "                                      (current_time > datetime.strptime(hours_start, '%I%p') \n",
    "                                       and current_time < datetime.strptime(hours_close, '%I%p'))\n",
    "                                      else 'Closed'\n",
    "                                     for today_hours, hours_start, hours_close \n",
    "                                      in zip(list_of_today_hours, list_of_today_hours_start,list_of_today_hours_close)]\n",
    "\n",
    "            return list_of_current_status\n",
    "\n",
    "            #print(list_of_today_hours)\n",
    "            #print(list_of_today_hours_start)\n",
    "            #print(list_of_today_hours_close)\n",
    "            #print(list_of_current_status)\n",
    "            \n",
    "\n",
    "        # check close/open status if day = Tuesday:\n",
    "        elif day.lower() in ('tuesday', 'tues', 'tu'):\n",
    "            list_of_today_hours = [re.findall('(?<=: ).+', hours)[0] for this_operation_hours in list_of_operation_hours\n",
    "                               for hours in this_operation_hours.split(';') \n",
    "                               if 'TU' in hours.split(':')[0] or 'M-TH' in hours.split(':')[0]]\n",
    "\n",
    "            list_of_today_hours_start=[re.findall('.+(?=-)', time_range)[0]\n",
    "                                       if time_range != 'Closed' else time_range\n",
    "                                       for time_range in list_of_today_hours]\n",
    "\n",
    "            list_of_today_hours_close=[re.findall('(?<=-).+', time_range)[0]\n",
    "                                       if time_range != 'Closed' else time_range\n",
    "                                       for time_range in list_of_today_hours]\n",
    "\n",
    "            list_of_current_status = ['open' if today_hours != 'Closed' and\n",
    "                                      (current_time > datetime.strptime(hours_start, '%I%p') \n",
    "                                       and current_time < datetime.strptime(hours_close, '%I%p'))\n",
    "                                      else 'Closed'\n",
    "                                     for today_hours, hours_start, hours_close \n",
    "                                      in zip(list_of_today_hours, list_of_today_hours_start,list_of_today_hours_close)]\n",
    "            \n",
    "            return list_of_current_status\n",
    "\n",
    "            #print(list_of_today_hours)\n",
    "            #print(list_of_today_hours_start)\n",
    "            #print(list_of_today_hours_close)\n",
    "            #print(list_of_current_status)\n",
    "            \n",
    "\n",
    "        # check close/open status if day = Wednesday:\n",
    "        elif day.lower() in ('wednesday', 'wed', 'w'):\n",
    "            list_of_today_hours = [re.findall('(?<=: ).+', hours)[0] for this_operation_hours in list_of_operation_hours\n",
    "                               for hours in this_operation_hours.split(';') \n",
    "                               if 'W' in hours.split(':')[0] or 'M-TH' in hours.split(':')[0]]\n",
    "\n",
    "            list_of_today_hours_start=[re.findall('.+(?=-)', time_range)[0]\n",
    "                                       if time_range != 'Closed' else time_range\n",
    "                                       for time_range in list_of_today_hours]\n",
    "\n",
    "            list_of_today_hours_close=[re.findall('(?<=-).+', time_range)[0]\n",
    "                                       if time_range != 'Closed' else time_range\n",
    "                                       for time_range in list_of_today_hours]\n",
    "\n",
    "            list_of_current_status = ['open' if today_hours != 'Closed' and\n",
    "                                      (current_time > datetime.strptime(hours_start, '%I%p') \n",
    "                                       and current_time < datetime.strptime(hours_close, '%I%p'))\n",
    "                                      else 'Closed'\n",
    "                                     for today_hours, hours_start, hours_close \n",
    "                                      in zip(list_of_today_hours, list_of_today_hours_start,list_of_today_hours_close)]\n",
    "\n",
    "            return list_of_current_status\n",
    "\n",
    "            #print(list_of_today_hours)\n",
    "            #print(list_of_today_hours_start)\n",
    "            #print(list_of_today_hours_close)\n",
    "            #print(list_of_current_status)\n",
    "\n",
    "\n",
    "        # check close/open status if day = Thursday:\n",
    "        elif day.lower() in ('thursday', 'thur', 'th'):\n",
    "            list_of_today_hours = [re.findall('(?<=: ).+', hours)[0] for this_operation_hours in list_of_operation_hours\n",
    "                               for hours in this_operation_hours.split(';') \n",
    "                               if 'TH' in hours.split(':')[0] or 'M-TH' in hours.split(':')[0]]\n",
    "\n",
    "            list_of_today_hours_start=[re.findall('.+(?=-)', time_range)[0]\n",
    "                                       if time_range != 'Closed' else time_range\n",
    "                                       for time_range in list_of_today_hours]\n",
    "\n",
    "            list_of_today_hours_close=[re.findall('(?<=-).+', time_range)[0]\n",
    "                                       if time_range != 'Closed' else time_range\n",
    "                                       for time_range in list_of_today_hours]\n",
    "\n",
    "            list_of_current_status = ['open' if today_hours != 'Closed' and\n",
    "                                      (current_time > datetime.strptime(hours_start, '%I%p') \n",
    "                                       and current_time < datetime.strptime(hours_close, '%I%p'))\n",
    "                                      else 'Closed'\n",
    "                                     for today_hours, hours_start, hours_close \n",
    "                                      in zip(list_of_today_hours, list_of_today_hours_start,list_of_today_hours_close)]\n",
    "\n",
    "            return list_of_current_status\n",
    "\n",
    "            #print(list_of_today_hours)\n",
    "            #print(list_of_today_hours_start)\n",
    "            #print(list_of_today_hours_close)\n",
    "            #print(list_of_current_status)\n",
    "\n",
    "        # check close/open status if day = Friday:\n",
    "        elif day.lower() in ('friday', 'fri', 'f'):\n",
    "            list_of_today_hours = [re.findall('(?<=: ).+', hours)[0] for this_operation_hours in list_of_operation_hours\n",
    "                               for hours in this_operation_hours.split(';') \n",
    "                               if 'F' in hours.split(':')[0]]\n",
    "\n",
    "            list_of_today_hours_start=[re.findall('.+(?=-)', time_range)[0]\n",
    "                                       if time_range != 'Closed' else time_range\n",
    "                                       for time_range in list_of_today_hours]\n",
    "\n",
    "            list_of_today_hours_close=[re.findall('(?<=-).+', time_range)[0]\n",
    "                                       if time_range != 'Closed' else time_range\n",
    "                                       for time_range in list_of_today_hours]\n",
    "\n",
    "            list_of_current_status = ['open' if today_hours != 'Closed' and\n",
    "                                      (current_time > datetime.strptime(hours_start, '%I%p') \n",
    "                                       and current_time < datetime.strptime(hours_close, '%I%p'))\n",
    "                                      else 'Closed'\n",
    "                                     for today_hours, hours_start, hours_close \n",
    "                                      in zip(list_of_today_hours, list_of_today_hours_start,list_of_today_hours_close)]\n",
    "\n",
    "            return list_of_current_status\n",
    "\n",
    "            #print(list_of_today_hours)\n",
    "            #print(list_of_today_hours_start)\n",
    "            #print(list_of_today_hours_close)\n",
    "            #print(list_of_current_status)\n",
    "\n",
    "        # check close/open status if day = Saturday:\n",
    "        elif day.lower() in ('saturday', 'sat', 'sa'):\n",
    "            list_of_today_hours = [re.findall('(?<=: ).+', hours)[0] for this_operation_hours in list_of_operation_hours\n",
    "                               for hours in this_operation_hours.split(';') \n",
    "                               if 'SA' in hours.split(':')[0]]\n",
    "\n",
    "            list_of_today_hours_start=[re.findall('.+(?=-)', time_range)[0]\n",
    "                                       if time_range != 'Closed' else time_range\n",
    "                                       for time_range in list_of_today_hours]\n",
    "\n",
    "            list_of_today_hours_close=[re.findall('(?<=-).+', time_range)[0]\n",
    "                                       if time_range != 'Closed' else time_range\n",
    "                                       for time_range in list_of_today_hours]\n",
    "\n",
    "            list_of_current_status = ['open' if today_hours != 'Closed' and\n",
    "                                      (current_time > datetime.strptime(hours_start, '%I%p') \n",
    "                                       and current_time < datetime.strptime(hours_close, '%I%p'))\n",
    "                                      else 'Closed'\n",
    "                                     for today_hours, hours_start, hours_close \n",
    "                                      in zip(list_of_today_hours, list_of_today_hours_start,list_of_today_hours_close)]\n",
    "\n",
    "            return list_of_current_status\n",
    "\n",
    "            #print(list_of_today_hours)\n",
    "            #print(list_of_today_hours_start)\n",
    "            #print(list_of_today_hours_close)\n",
    "            #print(list_of_current_status)\n",
    "\n",
    "        #check close/open status if day = Sunday:   \n",
    "        elif day.lower() in ('sunday', 'sun', 'su'):\n",
    "            list_of_today_hours = [re.findall('(?<=: ).+', hours)[0] for this_operation_hours in list_of_operation_hours\n",
    "                                       for hours in this_operation_hours.split(';') \n",
    "                                       if 'SU' in hours.split(':')[0]]\n",
    "\n",
    "            list_of_today_hours_start=[datetime.strptime(re.findall('.+(?=-)', time_range)[0],'%I%p') \n",
    "                                       if time_range != 'Closed' else time_range\n",
    "                                       for time_range in list_of_today_hours]\n",
    "\n",
    "            list_of_today_hours_close=[datetime.strptime(re.findall('(?<=-).+', time_range)[0],'%I%p')\n",
    "                                       if time_range != 'Closed' else time_range\n",
    "                                       for time_range in list_of_today_hours]\n",
    "\n",
    "            list_of_current_status = ['open' if today_hours != 'Closed' and\n",
    "                                      (current_time > hours_start and current_time < hours_close)\n",
    "                                      else 'Closed'\n",
    "                                     for today_hours, hours_start, hours_close \n",
    "                                      in zip(list_of_today_hours, list_of_today_hours_start,list_of_today_hours_close)]\n",
    "\n",
    "            return list_of_current_status\n",
    "\n",
    "            #print(list_of_today_hours)\n",
    "            #print(list_of_today_hours_start)\n",
    "            #print(list_of_today_hours_close)\n",
    "            #print(list_of_current_status)\n",
    "    \n",
    "    top_n_lib['library_operation_status']=get_lib_open_close(time, day)\n",
    "    \n",
    "    top_n_lib_desc = top_n_lib.sort_values(by='distance', ascending = False)\n",
    "    return top_n_lib_desc[['NAME', 'distance','ADDRESS','library_operation_status', 'popularity']]\n",
    "\n",
    "get_closest_lib(41.975456, -87.71409, '2PM', 'Wednesday', 5)"
   ]
  },
  {
   "cell_type": "code",
   "execution_count": 120,
   "metadata": {},
   "outputs": [
    {
     "data": {
      "text/html": [
       "<div>\n",
       "<style>\n",
       "    .dataframe thead tr:only-child th {\n",
       "        text-align: right;\n",
       "    }\n",
       "\n",
       "    .dataframe thead th {\n",
       "        text-align: left;\n",
       "    }\n",
       "\n",
       "    .dataframe tbody tr th {\n",
       "        vertical-align: top;\n",
       "    }\n",
       "</style>\n",
       "<table border=\"1\" class=\"dataframe\">\n",
       "  <thead>\n",
       "    <tr style=\"text-align: right;\">\n",
       "      <th></th>\n",
       "      <th>NAME</th>\n",
       "      <th>distance</th>\n",
       "      <th>ADDRESS</th>\n",
       "      <th>library_operation_status</th>\n",
       "      <th>popularity</th>\n",
       "    </tr>\n",
       "  </thead>\n",
       "  <tbody>\n",
       "    <tr>\n",
       "      <th>8</th>\n",
       "      <td>Bezazian</td>\n",
       "      <td>4.432463</td>\n",
       "      <td>1226 W. Ainslie Street</td>\n",
       "      <td>open</td>\n",
       "      <td>8.0</td>\n",
       "    </tr>\n",
       "    <tr>\n",
       "      <th>35</th>\n",
       "      <td>Jefferson Park</td>\n",
       "      <td>4.021298</td>\n",
       "      <td>5363 W. Lawrence Avenue</td>\n",
       "      <td>Closed</td>\n",
       "      <td>5.0</td>\n",
       "    </tr>\n",
       "    <tr>\n",
       "      <th>64</th>\n",
       "      <td>Sulzer Regional</td>\n",
       "      <td>2.851276</td>\n",
       "      <td>4455 N. Lincoln Avenue</td>\n",
       "      <td>open</td>\n",
       "      <td>9.0</td>\n",
       "    </tr>\n",
       "    <tr>\n",
       "      <th>53</th>\n",
       "      <td>Northtown</td>\n",
       "      <td>2.811353</td>\n",
       "      <td>6435 N. California Avenue</td>\n",
       "      <td>Closed</td>\n",
       "      <td>7.0</td>\n",
       "    </tr>\n",
       "    <tr>\n",
       "      <th>34</th>\n",
       "      <td>Independence</td>\n",
       "      <td>2.408837</td>\n",
       "      <td>3548 W. Irving Park Road</td>\n",
       "      <td>Closed</td>\n",
       "      <td>0.0</td>\n",
       "    </tr>\n",
       "    <tr>\n",
       "      <th>46</th>\n",
       "      <td>Mayfair</td>\n",
       "      <td>2.141651</td>\n",
       "      <td>4400 W. Lawrence Avenue</td>\n",
       "      <td>open</td>\n",
       "      <td>1.0</td>\n",
       "    </tr>\n",
       "    <tr>\n",
       "      <th>13</th>\n",
       "      <td>Budlong Woods</td>\n",
       "      <td>1.690295</td>\n",
       "      <td>5630 N. Lincoln Avenue</td>\n",
       "      <td>open</td>\n",
       "      <td>7.0</td>\n",
       "    </tr>\n",
       "    <tr>\n",
       "      <th>0</th>\n",
       "      <td>Albany Park</td>\n",
       "      <td>0.000000</td>\n",
       "      <td>3401 W. Foster Avenue</td>\n",
       "      <td>Closed</td>\n",
       "      <td>9.0</td>\n",
       "    </tr>\n",
       "  </tbody>\n",
       "</table>\n",
       "</div>"
      ],
      "text/plain": [
       "               NAME  distance                    ADDRESS  \\\n",
       "8          Bezazian  4.432463     1226 W. Ainslie Street   \n",
       "35   Jefferson Park  4.021298    5363 W. Lawrence Avenue   \n",
       "64  Sulzer Regional  2.851276     4455 N. Lincoln Avenue   \n",
       "53        Northtown  2.811353  6435 N. California Avenue   \n",
       "34     Independence  2.408837   3548 W. Irving Park Road   \n",
       "46          Mayfair  2.141651    4400 W. Lawrence Avenue   \n",
       "13    Budlong Woods  1.690295     5630 N. Lincoln Avenue   \n",
       "0       Albany Park  0.000000      3401 W. Foster Avenue   \n",
       "\n",
       "   library_operation_status  popularity  \n",
       "8                      open         8.0  \n",
       "35                   Closed         5.0  \n",
       "64                     open         9.0  \n",
       "53                   Closed         7.0  \n",
       "34                   Closed         0.0  \n",
       "46                     open         1.0  \n",
       "13                     open         7.0  \n",
       "0                    Closed         9.0  "
      ]
     },
     "execution_count": 120,
     "metadata": {},
     "output_type": "execute_result"
    }
   ],
   "source": [
    "get_closest_lib(41.975456, -87.71409, '6PM', 'Wednesday', 8)"
   ]
  },
  {
   "cell_type": "code",
   "execution_count": 123,
   "metadata": {},
   "outputs": [
    {
     "data": {
      "text/html": [
       "<div>\n",
       "<style>\n",
       "    .dataframe thead tr:only-child th {\n",
       "        text-align: right;\n",
       "    }\n",
       "\n",
       "    .dataframe thead th {\n",
       "        text-align: left;\n",
       "    }\n",
       "\n",
       "    .dataframe tbody tr th {\n",
       "        vertical-align: top;\n",
       "    }\n",
       "</style>\n",
       "<table border=\"1\" class=\"dataframe\">\n",
       "  <thead>\n",
       "    <tr style=\"text-align: right;\">\n",
       "      <th></th>\n",
       "      <th>NAME</th>\n",
       "      <th>distance</th>\n",
       "      <th>ADDRESS</th>\n",
       "      <th>library_operation_status</th>\n",
       "      <th>popularity</th>\n",
       "    </tr>\n",
       "  </thead>\n",
       "  <tbody>\n",
       "    <tr>\n",
       "      <th>64</th>\n",
       "      <td>Sulzer Regional</td>\n",
       "      <td>2.851276</td>\n",
       "      <td>4455 N. Lincoln Avenue</td>\n",
       "      <td>Closed</td>\n",
       "      <td>9.0</td>\n",
       "    </tr>\n",
       "    <tr>\n",
       "      <th>53</th>\n",
       "      <td>Northtown</td>\n",
       "      <td>2.811353</td>\n",
       "      <td>6435 N. California Avenue</td>\n",
       "      <td>Closed</td>\n",
       "      <td>7.0</td>\n",
       "    </tr>\n",
       "    <tr>\n",
       "      <th>34</th>\n",
       "      <td>Independence</td>\n",
       "      <td>2.408837</td>\n",
       "      <td>3548 W. Irving Park Road</td>\n",
       "      <td>Closed</td>\n",
       "      <td>0.0</td>\n",
       "    </tr>\n",
       "    <tr>\n",
       "      <th>46</th>\n",
       "      <td>Mayfair</td>\n",
       "      <td>2.141651</td>\n",
       "      <td>4400 W. Lawrence Avenue</td>\n",
       "      <td>Closed</td>\n",
       "      <td>1.0</td>\n",
       "    </tr>\n",
       "    <tr>\n",
       "      <th>13</th>\n",
       "      <td>Budlong Woods</td>\n",
       "      <td>1.690295</td>\n",
       "      <td>5630 N. Lincoln Avenue</td>\n",
       "      <td>Closed</td>\n",
       "      <td>7.0</td>\n",
       "    </tr>\n",
       "    <tr>\n",
       "      <th>0</th>\n",
       "      <td>Albany Park</td>\n",
       "      <td>0.000000</td>\n",
       "      <td>3401 W. Foster Avenue</td>\n",
       "      <td>Closed</td>\n",
       "      <td>9.0</td>\n",
       "    </tr>\n",
       "  </tbody>\n",
       "</table>\n",
       "</div>"
      ],
      "text/plain": [
       "               NAME  distance                    ADDRESS  \\\n",
       "64  Sulzer Regional  2.851276     4455 N. Lincoln Avenue   \n",
       "53        Northtown  2.811353  6435 N. California Avenue   \n",
       "34     Independence  2.408837   3548 W. Irving Park Road   \n",
       "46          Mayfair  2.141651    4400 W. Lawrence Avenue   \n",
       "13    Budlong Woods  1.690295     5630 N. Lincoln Avenue   \n",
       "0       Albany Park  0.000000      3401 W. Foster Avenue   \n",
       "\n",
       "   library_operation_status  popularity  \n",
       "64                   Closed         9.0  \n",
       "53                   Closed         7.0  \n",
       "34                   Closed         0.0  \n",
       "46                   Closed         1.0  \n",
       "13                   Closed         7.0  \n",
       "0                    Closed         9.0  "
      ]
     },
     "execution_count": 123,
     "metadata": {},
     "output_type": "execute_result"
    }
   ],
   "source": [
    "get_closest_lib(41.975456, -87.71409, '1PM', 'Sunday', 6)"
   ]
  },
  {
   "cell_type": "code",
   "execution_count": null,
   "metadata": {
    "collapsed": true
   },
   "outputs": [],
   "source": []
  },
  {
   "cell_type": "code",
   "execution_count": null,
   "metadata": {
    "collapsed": true
   },
   "outputs": [],
   "source": []
  },
  {
   "cell_type": "code",
   "execution_count": null,
   "metadata": {
    "collapsed": true
   },
   "outputs": [],
   "source": []
  }
 ],
 "metadata": {
  "kernelspec": {
   "display_name": "Python 3",
   "language": "python",
   "name": "python3"
  },
  "language_info": {
   "codemirror_mode": {
    "name": "ipython",
    "version": 3
   },
   "file_extension": ".py",
   "mimetype": "text/x-python",
   "name": "python",
   "nbconvert_exporter": "python",
   "pygments_lexer": "ipython3",
   "version": "3.6.3"
  }
 },
 "nbformat": 4,
 "nbformat_minor": 2
}
